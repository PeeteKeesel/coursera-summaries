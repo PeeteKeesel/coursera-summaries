{
 "cells": [
  {
   "cell_type": "markdown",
   "metadata": {},
   "source": [
    "## Instructions\n",
    "Generate local explanations for individual predictions from a pre-trained blackbox model. You may use LIME, SHAP, or Anchors for this assignment. At least one visualization of your explanation is required. \n",
    "\n",
    "## Rubric\n",
    "- Notebook is well documented and includes details and references to the dataset and models used.\n",
    "- Code implementing the explanation techniques is correct.\n",
    "- Code implementing the explanation techniques is clear and well documented.\n",
    "- Visualizations are clear, follow best practices, and has a clear caption/explanation in the notebook markdown.\n",
    "- Notebook includes markdown cell(s) with comprehensive explanations of your plots. "
   ]
  },
  {
   "cell_type": "markdown",
   "metadata": {},
   "source": []
  }
 ],
 "metadata": {
  "language_info": {
   "name": "python"
  }
 },
 "nbformat": 4,
 "nbformat_minor": 2
}
