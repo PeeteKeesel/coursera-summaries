{
 "cells": [
  {
   "cell_type": "markdown",
   "metadata": {},
   "source": [
    "# Module 2: Explainable Deep Learning Programming Exercise\n",
    "\n",
    "This programming exercise is ungraded, providing you with a low-pressure environment to explore and learn. However, we highly encourage you to use this rubric to evaluate your own work. Self-assessment is a powerful tool for improving your skills and understanding. If you encounter any difficulties or have questions while working on your labs, don't hesitate to reach out to your peers in the discussion forum. Engage actively, support each other, and make the most of this learning experience!\n",
    "\n",
    "## Instructions \n",
    "For a model and dataset of your choice, produce PDP, ICE, and ALE plots. Exploratory analysis of your dataset should be performed to determine the amount of correlation between features.  \n",
    "\n",
    "Provide a comprehensive explanation of your plots. Discuss any interesting findings that are shown in the plots. Discuss any differences you see in the PDP and ALE plots. Discuss your exploratory findings around correlation between features and the impact this has (if any) on your results.\n",
    "\n",
    "## Rubric \n",
    "- Notebook is well documented and includes details and references to the dataset and models used.\n",
    "- Code implementing the explanation techniques is correct.\n",
    "- Code implementing the explanation techniques is clear and well documented.\n",
    "- Visualizations are clear, follow best practices, and has a clear caption/explanation in the notebook markdown.\n",
    "- Notebook includes markdown cell(s) with comprehensive explanations of your plots. "
   ]
  },
  {
   "cell_type": "markdown",
   "metadata": {},
   "source": []
  }
 ],
 "metadata": {
  "language_info": {
   "name": "python"
  }
 },
 "nbformat": 4,
 "nbformat_minor": 2
}
