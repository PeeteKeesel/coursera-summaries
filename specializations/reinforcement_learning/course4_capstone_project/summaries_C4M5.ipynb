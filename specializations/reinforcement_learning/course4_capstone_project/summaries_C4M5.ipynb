{
 "cells": [
  {
   "cell_type": "markdown",
   "metadata": {},
   "source": [
    "**Table of contents**<a id='toc0_'></a>    \n",
    "- [Review: Dyna & Q-learning](#toc1_)    \n",
    "\n",
    "<!-- vscode-jupyter-toc-config\n",
    "\tnumbering=false\n",
    "\tanchor=true\n",
    "\tflat=false\n",
    "\tminLevel=1\n",
    "\tmaxLevel=6\n",
    "\t/vscode-jupyter-toc-config -->\n",
    "<!-- THIS CELL WILL BE REPLACED ON TOC UPDATE. DO NOT WRITE YOUR TEXT IN THIS CELL -->"
   ]
  },
  {
   "cell_type": "markdown",
   "metadata": {},
   "source": [
    "# <a id='toc1_'></a>[Review: Dyna & Q-learning](#toc0_)\n",
    "\n",
    "$\\textbf{Dyna-Q Overview}$:\n",
    "\n",
    "- **Combines**: Planning, learning, and acting.\n",
    "- **Goal**: Compare tabular Dyna-Q with model-free Q-learning in a grid world.\n",
    "- **Key Benefit**: Learn from fewer environment interactions by using a model.\n",
    "\n",
    "$\\textbf{Key Findings}$:\n",
    "\n",
    "- **Sample Efficiency**: Dyna-Q is far more sample efficient than Q-learning.\n",
    "- **Planning's Impact**: Planning enables the agent to **learn more from the same number of environment interactions** by making better use of the (correct) model.\n",
    "\n",
    "**Challenge with Random Search Control**\n",
    "\n",
    "- Problem: In the example maze, random sampling of state-action pairs during planning can be inefficient.\n",
    "  - Many planning updates might result in 0 TD error if rewards are mostly 0 and values are initially 0.\n",
    "  - This requires many planning steps to propagate value information.\n",
    "- Solution Idea: More efficient ordering of state-action pairs could significantly reduce the required planning updates (e.g., to 1/6th).\n",
    "- Implication: Random search control becomes even more problematic in larger environments.\n",
    "\n",
    "$\\textbf{Conclusion}$:\n",
    "\n",
    "- Dyna-Q dramatically speeds up learning by integrating planning (model-based experience) with direct learning (real experience).\n",
    "- More planning steps generally lead to better performance and faster convergence, assuming an accurate model."
   ]
  }
 ],
 "metadata": {
  "language_info": {
   "name": "python"
  }
 },
 "nbformat": 4,
 "nbformat_minor": 2
}
